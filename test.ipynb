{
 "cells": [
  {
   "cell_type": "code",
   "execution_count": 1,
   "id": "numerous-pennsylvania",
   "metadata": {},
   "outputs": [
    {
     "name": "stdout",
     "output_type": "stream",
     "text": [
      "| 1 | 2 | 3 |\n",
      "-------------\n",
      "| 4 | 5 | 6 |\n",
      "-------------\n",
      "| 7 | 8 | 9 |\n",
      "Would you play with 'X' or with 'O'? X\n",
      "['X', '2', '3', '4', '5', '6', '7', '8', '9']\n",
      "['1', 'X', '3', '4', '5', '6', '7', '8', '9']\n",
      "['1', '2', 'X', '4', '5', '6', '7', '8', '9']\n",
      "['1', '2', '3', 'X', '5', '6', '7', '8', '9']\n",
      "['1', '2', '3', '4', 'X', '6', '7', '8', '9']\n",
      "['1', '2', '3', '4', '5', 'X', '7', '8', '9']\n",
      "['1', '2', '3', '4', '5', '6', 'X', '8', '9']\n",
      "['1', '2', '3', '4', '5', '6', '7', 'X', '9']\n",
      "['1', '2', '3', '4', '5', '6', '7', '8', 'X']\n",
      "['O', '2', '3', '4', '5', '6', '7', '8', '9']\n",
      "['1', 'O', '3', '4', '5', '6', '7', '8', '9']\n",
      "['1', '2', 'O', '4', '5', '6', '7', '8', '9']\n",
      "['1', '2', '3', 'O', '5', '6', '7', '8', '9']\n",
      "['1', '2', '3', '4', 'O', '6', '7', '8', '9']\n",
      "['1', '2', '3', '4', '5', 'O', '7', '8', '9']\n",
      "['1', '2', '3', '4', '5', '6', 'O', '8', '9']\n",
      "['1', '2', '3', '4', '5', '6', '7', 'O', '9']\n",
      "['1', '2', '3', '4', '5', '6', '7', '8', 'O']\n",
      "Computer choices:  5\n",
      "| 1 | 2 | 3 |\n",
      "-------------\n",
      "| 4 | O | 6 |\n",
      "-------------\n",
      "| 7 | 8 | 9 |\n",
      "Please make your choice: 3\n",
      "| 1 | 2 | X |\n",
      "-------------\n",
      "| 4 | O | 6 |\n",
      "-------------\n",
      "| 7 | 8 | 9 |\n",
      "['X', '2', 'X', '4', 'O', '6', '7', '8', '9']\n",
      "['1', 'X', 'X', '4', 'O', '6', '7', '8', '9']\n",
      "['1', '2', 'X', 'X', 'O', '6', '7', '8', '9']\n",
      "['1', '2', 'X', '4', 'O', 'X', '7', '8', '9']\n",
      "['1', '2', 'X', '4', 'O', '6', 'X', '8', '9']\n",
      "['1', '2', 'X', '4', 'O', '6', '7', 'X', '9']\n",
      "['1', '2', 'X', '4', 'O', '6', '7', '8', 'X']\n",
      "['O', '2', 'X', '4', 'O', '6', '7', '8', '9']\n",
      "['1', 'O', 'X', '4', 'O', '6', '7', '8', '9']\n",
      "['1', '2', 'X', 'O', 'O', '6', '7', '8', '9']\n",
      "['1', '2', 'X', '4', 'O', 'O', '7', '8', '9']\n",
      "['1', '2', 'X', '4', 'O', '6', 'O', '8', '9']\n",
      "['1', '2', 'X', '4', 'O', '6', '7', 'O', '9']\n",
      "['1', '2', 'X', '4', 'O', '6', '7', '8', 'O']\n",
      "Computer choices:  4\n",
      "| 1 | 2 | X |\n",
      "-------------\n",
      "| O | O | 6 |\n",
      "-------------\n",
      "| 7 | 8 | 9 |\n",
      "Please make your choice: 2\n",
      "| 1 | X | X |\n",
      "-------------\n",
      "| O | O | 6 |\n",
      "-------------\n",
      "| 7 | 8 | 9 |\n",
      "['X', 'X', 'X', 'O', 'O', '6', '7', '8', '9']\n",
      "Computer choices:  1\n",
      "| O | X | X |\n",
      "-------------\n",
      "| O | O | 6 |\n",
      "-------------\n",
      "| 7 | 8 | 9 |\n",
      "Please make your choice: 7\n",
      "| O | X | X |\n",
      "-------------\n",
      "| O | O | 6 |\n",
      "-------------\n",
      "| X | 8 | 9 |\n",
      "['O', 'X', 'X', 'O', 'O', 'X', 'X', '8', '9']\n",
      "['O', 'X', 'X', 'O', 'O', '6', 'X', 'X', '9']\n",
      "['O', 'X', 'X', 'O', 'O', '6', 'X', '8', 'X']\n",
      "['O', 'X', 'X', 'O', 'O', 'O', 'X', '8', '9']\n",
      "Computer choices:  6\n",
      "| O | X | X |\n",
      "-------------\n",
      "| O | O | O |\n",
      "-------------\n",
      "| X | 8 | 9 |\n",
      "Winner is:  O\n"
     ]
    }
   ],
   "source": [
    "run test.py"
   ]
  },
  {
   "cell_type": "code",
   "execution_count": 2,
   "id": "imported-wagon",
   "metadata": {},
   "outputs": [
    {
     "data": {
      "text/plain": [
       "2"
      ]
     },
     "execution_count": 2,
     "metadata": {},
     "output_type": "execute_result"
    }
   ],
   "source": [
    "l = ['1', '2', 'x', 'x', '3']\n",
    "brick = 'x'\n",
    "l.count(brick)"
   ]
  },
  {
   "cell_type": "code",
   "execution_count": 3,
   "id": "aging-question",
   "metadata": {},
   "outputs": [
    {
     "name": "stdout",
     "output_type": "stream",
     "text": [
      "| 1 | 2 | 3 |\n",
      "-------------\n",
      "| 4 | 5 | 6 |\n",
      "-------------\n",
      "| 7 | 8 | 9 |\n",
      "Would you play with 'X' or with 'O'? O\n",
      "Please make your choice: 3\n",
      "| 1 | 2 | O |\n",
      "-------------\n",
      "| 4 | 5 | 6 |\n",
      "-------------\n",
      "| 7 | 8 | 9 |\n",
      "['X', '2', 'O', '4', '5', '6', '7', '8', '9']\n",
      "['1', 'X', 'O', '4', '5', '6', '7', '8', '9']\n",
      "['1', '2', 'O', 'X', '5', '6', '7', '8', '9']\n",
      "['1', '2', 'O', '4', 'X', '6', '7', '8', '9']\n",
      "['1', '2', 'O', '4', '5', 'X', '7', '8', '9']\n",
      "['1', '2', 'O', '4', '5', '6', 'X', '8', '9']\n",
      "['1', '2', 'O', '4', '5', '6', '7', 'X', '9']\n",
      "['1', '2', 'O', '4', '5', '6', '7', '8', 'X']\n",
      "['O', '2', 'O', '4', '5', '6', '7', '8', '9']\n",
      "['1', 'O', 'O', '4', '5', '6', '7', '8', '9']\n",
      "['1', '2', 'O', 'O', '5', '6', '7', '8', '9']\n",
      "['1', '2', 'O', '4', 'O', '6', '7', '8', '9']\n",
      "['1', '2', 'O', '4', '5', 'O', '7', '8', '9']\n",
      "['1', '2', 'O', '4', '5', '6', 'O', '8', '9']\n",
      "['1', '2', 'O', '4', '5', '6', '7', 'O', '9']\n",
      "['1', '2', 'O', '4', '5', '6', '7', '8', 'O']\n",
      "Computer choices:  4\n",
      "| 1 | 2 | O |\n",
      "-------------\n",
      "| X | 5 | 6 |\n",
      "-------------\n",
      "| 7 | 8 | 9 |\n",
      "Please make your choice: 5\n",
      "| 1 | 2 | O |\n",
      "-------------\n",
      "| X | O | 6 |\n",
      "-------------\n",
      "| 7 | 8 | 9 |\n",
      "['X', '2', 'O', 'X', 'O', '6', '7', '8', '9']\n",
      "['1', 'X', 'O', 'X', 'O', '6', '7', '8', '9']\n",
      "['1', '2', 'O', 'X', 'O', 'X', '7', '8', '9']\n",
      "['1', '2', 'O', 'X', 'O', '6', 'X', '8', '9']\n",
      "['1', '2', 'O', 'X', 'O', '6', '7', 'X', '9']\n",
      "['1', '2', 'O', 'X', 'O', '6', '7', '8', 'X']\n",
      "['O', '2', 'O', 'X', 'O', '6', '7', '8', '9']\n",
      "['1', 'O', 'O', 'X', 'O', '6', '7', '8', '9']\n",
      "['1', '2', 'O', 'X', 'O', 'O', '7', '8', '9']\n",
      "['1', '2', 'O', 'X', 'O', '6', 'O', '8', '9']\n",
      "Computer choices:  7\n",
      "| 1 | 2 | O |\n",
      "-------------\n",
      "| X | O | 6 |\n",
      "-------------\n",
      "| X | 8 | 9 |\n",
      "Please make your choice: 9\n",
      "| 1 | 2 | O |\n",
      "-------------\n",
      "| X | O | 6 |\n",
      "-------------\n",
      "| X | 8 | O |\n",
      "['X', '2', 'O', 'X', 'O', '6', 'X', '8', 'O']\n",
      "Computer choices:  1\n",
      "| X | 2 | O |\n",
      "-------------\n",
      "| X | O | 6 |\n",
      "-------------\n",
      "| X | 8 | O |\n",
      "Winner is:  X\n"
     ]
    }
   ],
   "source": [
    "run test.py\n"
   ]
  },
  {
   "cell_type": "markdown",
   "id": "suited-planner",
   "metadata": {},
   "source": [
    "run test.py"
   ]
  },
  {
   "cell_type": "code",
   "execution_count": 7,
   "id": "fallen-mortgage",
   "metadata": {},
   "outputs": [
    {
     "name": "stdout",
     "output_type": "stream",
     "text": [
      "| 1 | 2 | 3 |\n",
      "-------------\n",
      "| 4 | 5 | 6 |\n",
      "-------------\n",
      "| 7 | 8 | 9 |\n",
      "Would you play with 'X' or with 'O'? X\n",
      "Computer take:  5\n",
      "| 1 | 2 | 3 |\n",
      "-------------\n",
      "| 4 | O | 6 |\n",
      "-------------\n",
      "| 7 | 8 | 9 |\n",
      "Please make your choice: 3\n",
      "| 1 | 2 | X |\n",
      "-------------\n",
      "| 4 | O | 6 |\n",
      "-------------\n",
      "| 7 | 8 | 9 |\n",
      "Computer take:  9\n",
      "| 1 | 2 | X |\n",
      "-------------\n",
      "| 4 | O | 6 |\n",
      "-------------\n",
      "| 7 | 8 | O |\n",
      "Please make your choice: 1\n",
      "| X | 2 | X |\n",
      "-------------\n",
      "| 4 | O | 6 |\n",
      "-------------\n",
      "| 7 | 8 | O |\n",
      "Computer take:  2\n",
      "| X | O | X |\n",
      "-------------\n",
      "| 4 | O | 6 |\n",
      "-------------\n",
      "| 7 | 8 | O |\n",
      "Please make your choice: 8\n",
      "| X | O | X |\n",
      "-------------\n",
      "| 4 | O | 6 |\n",
      "-------------\n",
      "| 7 | X | O |\n",
      "Computer take:  4\n",
      "| X | O | X |\n",
      "-------------\n",
      "| O | O | 6 |\n",
      "-------------\n",
      "| 7 | X | O |\n",
      "Please make your choice: 6\n",
      "| X | O | X |\n",
      "-------------\n",
      "| O | O | X |\n",
      "-------------\n",
      "| 7 | X | O |\n",
      "Computer take:  7\n",
      "| X | O | X |\n",
      "-------------\n",
      "| O | O | X |\n",
      "-------------\n",
      "| O | X | O |\n",
      "No winner\n"
     ]
    }
   ],
   "source": [
    "run test.py"
   ]
  },
  {
   "cell_type": "code",
   "execution_count": 14,
   "id": "compatible-bundle",
   "metadata": {},
   "outputs": [
    {
     "data": {
      "text/plain": [
       "'K'"
      ]
     },
     "execution_count": 14,
     "metadata": {},
     "output_type": "execute_result"
    }
   ],
   "source": [
    "k = 'K'.upper()\n",
    "k\n"
   ]
  },
  {
   "cell_type": "code",
   "execution_count": 17,
   "id": "infectious-boring",
   "metadata": {},
   "outputs": [
    {
     "name": "stdout",
     "output_type": "stream",
     "text": [
      "| 1 | 2 | 3 |\n",
      "-------------\n",
      "| 4 | 5 | 6 |\n",
      "-------------\n",
      "| 7 | 8 | 9 |\n",
      "Would you play with 'X' or with 'O'? p\n",
      "Impossible brick! Only 'X' or 'O' x\n",
      "Computer take:  3\n",
      "| 1 | 2 | O |\n",
      "-------------\n",
      "| 4 | 5 | 6 |\n",
      "-------------\n",
      "| 7 | 8 | 9 |\n",
      "Please make your choice: 7\n",
      "| 1 | 2 | O |\n",
      "-------------\n",
      "| 4 | 5 | 6 |\n",
      "-------------\n",
      "| X | 8 | 9 |\n",
      "Computer take:  5\n",
      "| 1 | 2 | O |\n",
      "-------------\n",
      "| 4 | O | 6 |\n",
      "-------------\n",
      "| X | 8 | 9 |\n",
      "Please make your choice: 4\n",
      "| 1 | 2 | O |\n",
      "-------------\n",
      "| X | O | 6 |\n",
      "-------------\n",
      "| X | 8 | 9 |\n",
      "Computer take:  1\n",
      "| O | 2 | O |\n",
      "-------------\n",
      "| X | O | 6 |\n",
      "-------------\n",
      "| X | 8 | 9 |\n",
      "Please make your choice: 8\n",
      "| O | 2 | O |\n",
      "-------------\n",
      "| X | O | 6 |\n",
      "-------------\n",
      "| X | X | 9 |\n",
      "Computer take:  2\n",
      "| O | O | O |\n",
      "-------------\n",
      "| X | O | 6 |\n",
      "-------------\n",
      "| X | X | 9 |\n",
      "Winner is:  Computer\n"
     ]
    }
   ],
   "source": [
    "run test.py"
   ]
  },
  {
   "cell_type": "code",
   "execution_count": 18,
   "id": "judicial-springfield",
   "metadata": {},
   "outputs": [
    {
     "data": {
      "text/plain": [
       "'Hallo\\x1b[95m'"
      ]
     },
     "execution_count": 18,
     "metadata": {},
     "output_type": "execute_result"
    }
   ],
   "source": [
    "'Hallo\\033[95m'"
   ]
  },
  {
   "cell_type": "code",
   "execution_count": 23,
   "id": "sensitive-equilibrium",
   "metadata": {},
   "outputs": [
    {
     "name": "stdout",
     "output_type": "stream",
     "text": [
      "\u001b[95mHello World !\u001b[0m\n"
     ]
    }
   ],
   "source": [
    "class color:\n",
    "   PURPLE = '\\033[95m'\n",
    "   CYAN = '\\033[96m'\n",
    "   DARKCYAN = '\\033[36m'\n",
    "   BLUE = '\\033[94m'\n",
    "   GREEN = '\\033[92m'\n",
    "   YELLOW = '\\033[93m'\n",
    "   RED = '\\033[91m'\n",
    "   BOLD = '\\033[1m'\n",
    "   UNDERLINE = '\\033[4m'\n",
    "   END = '\\033[0m'\n",
    "\n",
    "print(color.PURPLE + 'Hello World !' + color.END)"
   ]
  },
  {
   "cell_type": "code",
   "execution_count": 27,
   "id": "appointed-physics",
   "metadata": {},
   "outputs": [
    {
     "data": {
      "text/plain": [
       "'\\x1b[95mHello'"
      ]
     },
     "execution_count": 27,
     "metadata": {},
     "output_type": "execute_result"
    }
   ],
   "source": [
    "k = '\\033[95m' + 'Hello'\n",
    "k"
   ]
  },
  {
   "cell_type": "code",
   "execution_count": 28,
   "id": "honey-ratio",
   "metadata": {},
   "outputs": [
    {
     "ename": "NameError",
     "evalue": "name 'tk' is not defined",
     "output_type": "error",
     "traceback": [
      "\u001b[0;31m---------------------------------------------------------------------------\u001b[0m",
      "\u001b[0;31mNameError\u001b[0m                                 Traceback (most recent call last)",
      "\u001b[0;32m<ipython-input-28-f9549bec210a>\u001b[0m in \u001b[0;36m<module>\u001b[0;34m\u001b[0m\n\u001b[0;32m----> 1\u001b[0;31m label1 = tk.Label(root, text='Hallo Welt', \n\u001b[0m\u001b[1;32m      2\u001b[0m                         \u001b[0mfg\u001b[0m\u001b[0;34m=\u001b[0m\u001b[0;34m'#00ff00'\u001b[0m\u001b[0;34m,\u001b[0m\u001b[0;34m\u001b[0m\u001b[0;34m\u001b[0m\u001b[0m\n\u001b[1;32m      3\u001b[0m                         \u001b[0mbg\u001b[0m\u001b[0;34m=\u001b[0m\u001b[0;34m'orange'\u001b[0m\u001b[0;34m,\u001b[0m\u001b[0;34m\u001b[0m\u001b[0;34m\u001b[0m\u001b[0m\n\u001b[1;32m      4\u001b[0m                         font=('times', 25, 'bold', 'italic'))\n\u001b[1;32m      5\u001b[0m \u001b[0mlabel1\u001b[0m\u001b[0;34m\u001b[0m\u001b[0;34m\u001b[0m\u001b[0m\n",
      "\u001b[0;31mNameError\u001b[0m: name 'tk' is not defined"
     ]
    }
   ],
   "source": [
    "label1 = tk.Label(root, text='Hallo Welt', \n",
    "                        fg='#00ff00',\n",
    "                        bg='orange',\n",
    "                        font=('times', 25, 'bold', 'italic'))\n",
    "label1"
   ]
  },
  {
   "cell_type": "code",
   "execution_count": null,
   "id": "excessive-island",
   "metadata": {},
   "outputs": [],
   "source": []
  }
 ],
 "metadata": {
  "kernelspec": {
   "display_name": "Python 3",
   "language": "python",
   "name": "python3"
  },
  "language_info": {
   "codemirror_mode": {
    "name": "ipython",
    "version": 3
   },
   "file_extension": ".py",
   "mimetype": "text/x-python",
   "name": "python",
   "nbconvert_exporter": "python",
   "pygments_lexer": "ipython3",
   "version": "3.8.5"
  }
 },
 "nbformat": 4,
 "nbformat_minor": 5
}
