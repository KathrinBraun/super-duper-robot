{
 "cells": [
  {
   "cell_type": "code",
   "execution_count": 1,
   "id": "virgin-liberty",
   "metadata": {},
   "outputs": [],
   "source": [
    "import tkinter as tk"
   ]
  },
  {
   "cell_type": "code",
   "execution_count": 2,
   "id": "operational-backing",
   "metadata": {},
   "outputs": [],
   "source": [
    "root = tk.Tk()        #Fenster initialisieren"
   ]
  },
  {
   "cell_type": "code",
   "execution_count": 3,
   "id": "blessed-truth",
   "metadata": {},
   "outputs": [],
   "source": [
    "root.mainloop()       #Hauptloop, dass Fenster nicht gleich verschwindet"
   ]
  },
  {
   "cell_type": "markdown",
   "id": "desperate-russell",
   "metadata": {},
   "source": [
    "## Überblick über alle Steuerelemente für die GUI und tkinter\n",
    "In unser Fenster wollen wir nun verschiedene Steuerelemente einsetzen. Im ersten Schritt eine Übersicht der verfügbaren Steuerelemente in alphabetischer Reihenfolge, die wir in den folgenden Kapiteln Schritt für Schritt kennen lernen.\n",
    "\n",
    "    Widget\tFunktion\n",
    "    Button\tSchaltfläche, Button – anklicken und es passiert was\n",
    "    Canvas\tkann Grafiken und Zeichnungen aufnehmen\n",
    "    Checkbutton\tanklickbare Auswahl\n",
    "    Entry\teinzeiliges Eingabefeld\n",
    "    Label\tTextlabel für Beschriftungen\n",
    "    LabelFrame\tbeschrifteter Rahmen\n",
    "    Listbox\tListe mit Auswahl\n",
    "    Menu\tKontextmenü\n",
    "    Menubutton\tSchaltfläche für Kontextmenü\n",
    "    OptionMenu\tSchaltfläche, die bei Bestätigung eine Auswahlliste anzeigt\n",
    "    Radiobutton\tAuswahlfeld, im Gegensatz zu Checkbutton kann nur eine innerhalb einer Gruppe gewählt sein\n",
    "    Scrollbar\tScrollleiste\n",
    "    Spinbox\tZahlenwertauswahlfeld\n",
    "    Text\tmehrzeiliges Texteingabefeld\n",
    "    Widget-Basisklasse\tBasisklasse eines Steuerelements (alle Grundfunktionen, die für alle Widgets verfügbar ist)"
   ]
  },
  {
   "cell_type": "code",
   "execution_count": 8,
   "id": "stupid-rhythm",
   "metadata": {},
   "outputs": [],
   "source": [
    "root = tk.Tk()\n",
    "# Textausgabe erzeugen\n",
    "label1 = tk.Label(root, text=\"Kleine Biene\")\n",
    "label1a = tk.Label(root, text=\"ssssuuuummmm\")\n",
    "\n",
    "# in GUI Elemente einbetten\n",
    "label1.pack(side=\"top\")\n",
    "label1a.pack(side=\"left\")\n",
    "# Grafik einbetten\n",
    "bild1 = tk.PhotoImage(file=\"biene.png\")\n",
    "label2 = tk.Label(root, image=bild1).pack(side=\"right\")\n",
    "\n",
    "root.mainloop()"
   ]
  },
  {
   "cell_type": "markdown",
   "id": "adverse-rating",
   "metadata": {},
   "source": [
    "Vordergrundfarbe fg\n",
    "\n",
    "Hintergrundfarbe bg"
   ]
  },
  {
   "cell_type": "code",
   "execution_count": 9,
   "id": "modified-overall",
   "metadata": {},
   "outputs": [],
   "source": [
    "root = tk.Tk()\n",
    "# Textausgabe erzeugen\n",
    "label1 = tk.Label(root, text=\"Kleine Biene\", fg='lime', bg='brown')\n",
    "label1a = tk.Label(root, text=\"ssssuuuummmm\")\n",
    "\n",
    "# in GUI Elemente einbetten\n",
    "label1.pack(side=\"top\")\n",
    "label1a.pack(side=\"left\")\n",
    "# Grafik einbetten\n",
    "bild1 = tk.PhotoImage(file=\"biene.png\")\n",
    "label2 = tk.Label(root, image=bild1).pack(side=\"right\")\n",
    "\n",
    "root.mainloop()"
   ]
  },
  {
   "cell_type": "markdown",
   "id": "excess-plane",
   "metadata": {},
   "source": [
    "Schriftart und Schrfitgröße setzen über font"
   ]
  },
  {
   "cell_type": "code",
   "execution_count": 10,
   "id": "ceramic-grammar",
   "metadata": {},
   "outputs": [],
   "source": [
    "root = tk.Tk()\n",
    "# Textausgabe erzeugen\n",
    "label1 = tk.Label(root, text=\"Kleine Biene\", fg='grey', bg='lightyellow', font=('times', 25, 'bold', 'italic'))\n",
    "label1a = tk.Label(root, text=\"ssssuuuummmm\")\n",
    "\n",
    "# in GUI Elemente einbetten\n",
    "label1.pack(side=\"top\")\n",
    "label1a.pack(side=\"left\")\n",
    "# Grafik einbetten\n",
    "bild1 = tk.PhotoImage(file=\"biene.png\")\n",
    "label2 = tk.Label(root, image=bild1).pack(side=\"right\")\n",
    "\n",
    "root.mainloop()"
   ]
  },
  {
   "cell_type": "markdown",
   "id": "certified-custody",
   "metadata": {},
   "source": [
    "Platzieren der Elemente in der GUI über pack() versus grid()"
   ]
  },
  {
   "cell_type": "code",
   "execution_count": 11,
   "id": "fifth-australia",
   "metadata": {},
   "outputs": [],
   "source": [
    "import tkinter as tk\n",
    "\n",
    "root = tk.Tk()\n",
    "\n",
    "label1 = tk.Label(root, text=\"Hallo Welt\", bg=\"orange\")\n",
    "label1.grid(row=0, column=0)\n",
    "\n",
    "label2 = tk.Label(root, text=\"R1 / C1\", bg=\"lightgreen\")\n",
    "label2.grid(row=1, column=1)\n",
    "\n",
    "label3 = tk.Label(root, text=\"R2 / C2\", bg=\"lightblue\")\n",
    "label3.grid(row=2, column=2)\n",
    "\n",
    "root.mainloop()"
   ]
  },
  {
   "cell_type": "code",
   "execution_count": 12,
   "id": "graphic-techno",
   "metadata": {},
   "outputs": [
    {
     "name": "stdout",
     "output_type": "stream",
     "text": [
      "['__class__', '__delattr__', '__dict__', '__dir__', '__doc__', '__eq__', '__format__', '__ge__', '__getattribute__', '__gt__', '__hash__', '__init__', '__init_subclass__', '__le__', '__lt__', '__module__', '__ne__', '__new__', '__reduce__', '__reduce_ex__', '__repr__', '__setattr__', '__sizeof__', '__str__', '__subclasshook__', '__weakref__', 'bbox', 'columnconfigure', 'config', 'configure', 'forget', 'grid', 'grid_bbox', 'grid_columnconfigure', 'grid_configure', 'grid_forget', 'grid_info', 'grid_location', 'grid_propagate', 'grid_remove', 'grid_rowconfigure', 'grid_size', 'grid_slaves', 'info', 'location', 'propagate', 'rowconfigure', 'size', 'slaves']\n"
     ]
    }
   ],
   "source": [
    "print(dir(tk.Grid))"
   ]
  },
  {
   "cell_type": "code",
   "execution_count": 14,
   "id": "occasional-album",
   "metadata": {},
   "outputs": [
    {
     "name": "stdout",
     "output_type": "stream",
     "text": [
      "['_Misc__winfo_getint', '_Misc__winfo_parseitem', '__class__', '__delattr__', '__dict__', '__dir__', '__doc__', '__eq__', '__format__', '__ge__', '__getattribute__', '__getitem__', '__gt__', '__hash__', '__init__', '__init_subclass__', '__le__', '__lt__', '__module__', '__ne__', '__new__', '__reduce__', '__reduce_ex__', '__repr__', '__setattr__', '__setitem__', '__sizeof__', '__str__', '__subclasshook__', '__weakref__', '_bind', '_configure', '_displayof', '_do', '_getboolean', '_getconfigure', '_getconfigure1', '_getdoubles', '_getints', '_grid_configure', '_gridconvvalue', '_last_child_ids', '_nametowidget', '_noarg_', '_options', '_register', '_report_exception', '_root', '_setup', '_subst_format', '_subst_format_str', '_substitute', '_tclCommands', '_windowingsystem', 'after', 'after_cancel', 'after_idle', 'anchor', 'bbox', 'bell', 'bind', 'bind_all', 'bind_class', 'bindtags', 'cget', 'clipboard_append', 'clipboard_clear', 'clipboard_get', 'columnconfigure', 'config', 'configure', 'deletecommand', 'destroy', 'event_add', 'event_delete', 'event_generate', 'event_info', 'focus', 'focus_displayof', 'focus_force', 'focus_get', 'focus_lastfor', 'focus_set', 'forget', 'getboolean', 'getdouble', 'getint', 'getvar', 'grab_current', 'grab_release', 'grab_set', 'grab_set_global', 'grab_status', 'grid', 'grid_anchor', 'grid_bbox', 'grid_columnconfigure', 'grid_configure', 'grid_forget', 'grid_info', 'grid_location', 'grid_propagate', 'grid_remove', 'grid_rowconfigure', 'grid_size', 'grid_slaves', 'image_names', 'image_types', 'info', 'keys', 'lift', 'location', 'lower', 'mainloop', 'nametowidget', 'option_add', 'option_clear', 'option_get', 'option_readfile', 'pack', 'pack_configure', 'pack_forget', 'pack_info', 'pack_propagate', 'pack_slaves', 'place', 'place_configure', 'place_forget', 'place_info', 'place_slaves', 'propagate', 'quit', 'register', 'rowconfigure', 'selection_clear', 'selection_get', 'selection_handle', 'selection_own', 'selection_own_get', 'send', 'setvar', 'size', 'slaves', 'tk_bisque', 'tk_focusFollowsMouse', 'tk_focusNext', 'tk_focusPrev', 'tk_setPalette', 'tk_strictMotif', 'tkraise', 'unbind', 'unbind_all', 'unbind_class', 'update', 'update_idletasks', 'wait_variable', 'wait_visibility', 'wait_window', 'waitvar', 'winfo_atom', 'winfo_atomname', 'winfo_cells', 'winfo_children', 'winfo_class', 'winfo_colormapfull', 'winfo_containing', 'winfo_depth', 'winfo_exists', 'winfo_fpixels', 'winfo_geometry', 'winfo_height', 'winfo_id', 'winfo_interps', 'winfo_ismapped', 'winfo_manager', 'winfo_name', 'winfo_parent', 'winfo_pathname', 'winfo_pixels', 'winfo_pointerx', 'winfo_pointerxy', 'winfo_pointery', 'winfo_reqheight', 'winfo_reqwidth', 'winfo_rgb', 'winfo_rootx', 'winfo_rooty', 'winfo_screen', 'winfo_screencells', 'winfo_screendepth', 'winfo_screenheight', 'winfo_screenmmheight', 'winfo_screenmmwidth', 'winfo_screenvisual', 'winfo_screenwidth', 'winfo_server', 'winfo_toplevel', 'winfo_viewable', 'winfo_visual', 'winfo_visualid', 'winfo_visualsavailable', 'winfo_vrootheight', 'winfo_vrootwidth', 'winfo_vrootx', 'winfo_vrooty', 'winfo_width', 'winfo_x', 'winfo_y']\n"
     ]
    }
   ],
   "source": [
    "print(dir(tk.Label))"
   ]
  },
  {
   "cell_type": "code",
   "execution_count": 16,
   "id": "crazy-button",
   "metadata": {},
   "outputs": [
    {
     "name": "stdout",
     "output_type": "stream",
     "text": [
      "Help on function grid_configure in module tkinter:\n",
      "\n",
      "grid_configure(self, cnf={}, **kw)\n",
      "    Position a widget in the parent widget in a grid. Use as options:\n",
      "    column=number - use cell identified with given column (starting with 0)\n",
      "    columnspan=number - this widget will span several columns\n",
      "    in=master - use master to contain this widget\n",
      "    in_=master - see 'in' option description\n",
      "    ipadx=amount - add internal padding in x direction\n",
      "    ipady=amount - add internal padding in y direction\n",
      "    padx=amount - add padding in x direction\n",
      "    pady=amount - add padding in y direction\n",
      "    row=number - use cell identified with given row (starting with 0)\n",
      "    rowspan=number - this widget will span several rows\n",
      "    sticky=NSEW - if cell is larger on which sides will this\n",
      "                  widget stick to the cell boundary\n",
      "\n",
      "None\n"
     ]
    }
   ],
   "source": [
    "print(help(tk.Grid.grid))"
   ]
  },
  {
   "cell_type": "markdown",
   "id": "common-interval",
   "metadata": {},
   "source": [
    "Über das Attribut sticky= können wir unseren Inhalt an einer Seite ausrichten und sind nicht auf die zentrierte Ausgabe festgelegt. Als Attributwert diesen die Himmelsrichtungen wir „n, s, w, e, sw, se, ..“"
   ]
  },
  {
   "cell_type": "markdown",
   "id": "automatic-flooring",
   "metadata": {},
   "source": [
    "Entry: Einzeiliges Eingabefeld erstellen in tkinter"
   ]
  },
  {
   "cell_type": "code",
   "execution_count": 21,
   "id": "durable-architect",
   "metadata": {},
   "outputs": [],
   "source": [
    "root = tk.Tk()\n",
    "eingabefeld_wert=tk.StringVar()\n",
    "eingabefeld=tk.Entry(root, textvariable=eingabefeld_wert)\n",
    "eingabefeld.pack()\n",
    "root.mainloop()\n"
   ]
  },
  {
   "cell_type": "code",
   "execution_count": 22,
   "id": "precious-blues",
   "metadata": {},
   "outputs": [],
   "source": [
    "root = tk.Tk()\n",
    "eingabefeld_wert=tk.StringVar()\n",
    "eingabefeld=tk.Entry(root, textvariable=eingabefeld_wert)\n",
    "eingabefeld.pack()\n",
    "eingabefeld_wert.set('12345')                               #Vorwert einfügen\n",
    "root.mainloop()"
   ]
  },
  {
   "cell_type": "code",
   "execution_count": 25,
   "id": "color-attachment",
   "metadata": {},
   "outputs": [],
   "source": [
    "root = tk.Tk()\n",
    "eingabefeld=tk.Entry(root)\n",
    "eingabefeld_wert=tk.StringVar()\n",
    "eingabefeld[\"textvariable\"] = eingabefeld_wert\n",
    "eingabefeld[\"show\"] = \"*\"                                   #Passwort Eingabe\n",
    "eingabefeld.pack()\n",
    "root.mainloop()"
   ]
  },
  {
   "cell_type": "markdown",
   "id": "brief-helicopter",
   "metadata": {},
   "source": [
    "Schaltfläche Button mit pack()"
   ]
  },
  {
   "cell_type": "code",
   "execution_count": 32,
   "id": "medieval-patient",
   "metadata": {},
   "outputs": [],
   "source": [
    "root = tk.Tk()\n",
    "# Textausgabe erzeugen\n",
    "label1 = tk.Label(root, text=\"Hallo Welt\", font=('lobster', 30, 'bold'))\n",
    "label1.pack()\n",
    "\n",
    "schaltf1 = tk.Button(root, text=\"Aktion durchführen\", bg='lime')\n",
    "schaltf1.pack()\n",
    "\n",
    "root.mainloop()"
   ]
  },
  {
   "cell_type": "code",
   "execution_count": 33,
   "id": "alpha-washer",
   "metadata": {},
   "outputs": [],
   "source": [
    "root = tk.Tk()\n",
    "label1 = tk.Label(root, text=\"Hallo Welt\").pack()\n",
    "schaltf1 = tk.Button(root, text=\"Aktion durchführen\").pack()\n",
    "\n",
    "root.mainloop()"
   ]
  },
  {
   "cell_type": "markdown",
   "id": "suspected-table",
   "metadata": {},
   "source": [
    "### Button/Schaltfläche mit Aktion verknüpfen\n",
    "Jetzt belegen wir unsere Schaltfläche mit einer Aktion. Dazu geben wir dem Button-Widget noch das Attribut command=Funktionsaufruf mit:\n",
    "\n",
    "Zusätzlich benötigen wir noch eine Funktion, die etwas macht. Hier nutzen wir die „Beenden“-Funktion von Tkinter .destroy."
   ]
  },
  {
   "cell_type": "code",
   "execution_count": 35,
   "id": "hollow-patch",
   "metadata": {},
   "outputs": [],
   "source": [
    "root = tk.Tk()\n",
    "\n",
    "label1 = tk.Label(root, text=\"Hallo Welt\", bg=\"orange\")\n",
    "label1.pack()\n",
    "\n",
    "schaltf1 = tk.Button(root, text=\"Aktion durchführen\", command=root.destroy)\n",
    "schaltf1.pack()\n",
    "\n",
    "root.mainloop()"
   ]
  },
  {
   "cell_type": "code",
   "execution_count": 36,
   "id": "abandoned-peeing",
   "metadata": {},
   "outputs": [],
   "source": [
    "def aktionSF():\n",
    "    label3 = tk.Label(root, text=\"Aktion durchgeführt\", bg=\"yellow\")\n",
    "    label3.pack()\n",
    "\n",
    "root = tk.Tk()\n",
    "\n",
    "label1 = tk.Label(root, text=\"Hallo Welt\", bg=\"orange\")\n",
    "label1.pack()\n",
    "\n",
    "schaltf1 = tk.Button(root, text=\"Aktion durchführen\", command=aktionSF)\n",
    "schaltf1.pack()\n",
    "\n",
    "root.mainloop()\n"
   ]
  },
  {
   "cell_type": "markdown",
   "id": "raising-reaction",
   "metadata": {},
   "source": [
    "    Datentyp Tkinter\tDatentyp Python-Datentyp\n",
    "    tkinter.StringVar\tstr\n",
    "    tkinter.IntVar\tint\n",
    "    tkinter.DoubleVar\tfloat\n",
    "    tkinter.BooleanVar\tbool"
   ]
  },
  {
   "cell_type": "code",
   "execution_count": 38,
   "id": "loaded-visiting",
   "metadata": {},
   "outputs": [],
   "source": [
    "def grad_nach_kelvin():\n",
    "    print(eingabefeld_wert)\n",
    "    \n",
    "root = tk.Tk()\n",
    "\n",
    "eingabefeld_wert=tk.StringVar()\n",
    "eingabefeld=tk.Entry(root, textvariable=eingabefeld_wert)\n",
    "eingabefeld.pack()\n",
    "\n",
    "schaltf1 = tk.Button(root, text=\"Aktion durchführen\", command=grad_nach_kelvin)\n",
    "schaltf1.pack()\n",
    "\n",
    "\n",
    "\n",
    "root.mainloop()"
   ]
  },
  {
   "cell_type": "code",
   "execution_count": 43,
   "id": "thirty-eating",
   "metadata": {},
   "outputs": [],
   "source": [
    "root = tk.Tk()\n",
    "\n",
    "def grad_nach_kelvin():\n",
    "    # print(eingabefeld_wert.get())\n",
    "    grad = int(eingabefeld_wert.get())\n",
    "    kelvin = grad + 273\n",
    "    textausgabe = tk.Label(root, text=kelvin, bg=\"yellow\")\n",
    "    textausgabe.pack()\n",
    "    \n",
    "#label1 = tk.Label(root, text=\"Celsius in Kelvin\", bg=\"orange\", font=('lobster', 20, 'bold'))\n",
    "\n",
    "eingabefeld_wert=tk.StringVar()\n",
    "eingabefeld=tk.Entry(root, textvariable=eingabefeld_wert)\n",
    "eingabefeld.pack()\n",
    "\n",
    "schaltf1 = tk.Button(root, text=\"Aktion durchführen\", command=grad_nach_kelvin)\n",
    "schaltf1.pack()\n",
    "\n",
    "root.mainloop()"
   ]
  },
  {
   "cell_type": "markdown",
   "id": "insured-hormone",
   "metadata": {},
   "source": [
    "https://www.python-lernen.de/tkinter-button.htm\n",
    "\n",
    "Nächster Punkt: Curserform ändern"
   ]
  }
 ],
 "metadata": {
  "kernelspec": {
   "display_name": "Python 3",
   "language": "python",
   "name": "python3"
  },
  "language_info": {
   "codemirror_mode": {
    "name": "ipython",
    "version": 3
   },
   "file_extension": ".py",
   "mimetype": "text/x-python",
   "name": "python",
   "nbconvert_exporter": "python",
   "pygments_lexer": "ipython3",
   "version": "3.8.5"
  }
 },
 "nbformat": 4,
 "nbformat_minor": 5
}
